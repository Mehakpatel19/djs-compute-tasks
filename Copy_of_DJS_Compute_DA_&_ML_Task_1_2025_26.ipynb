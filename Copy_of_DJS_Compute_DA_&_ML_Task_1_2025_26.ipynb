{
  "nbformat": 4,
  "nbformat_minor": 0,
  "metadata": {
    "colab": {
      "provenance": [],
      "include_colab_link": true
    },
    "kernelspec": {
      "name": "python3",
      "display_name": "Python 3"
    },
    "language_info": {
      "name": "python"
    }
  },
  "cells": [
    {
      "cell_type": "markdown",
      "metadata": {
        "id": "view-in-github",
        "colab_type": "text"
      },
      "source": [
        "<a href=\"https://colab.research.google.com/github/Mehakpatel19/djs-compute-tasks/blob/main/Copy_of_DJS_Compute_DA_%26_ML_Task_1_2025_26.ipynb\" target=\"_parent\"><img src=\"https://colab.research.google.com/assets/colab-badge.svg\" alt=\"Open In Colab\"/></a>"
      ]
    },
    {
      "cell_type": "markdown",
      "source": [
        "**General Instructions:**\n",
        "\n",
        "*   Please make a copy of this colab notebook in your own drive and solve the questions in the copy. Do not edit the original file.\n",
        "\n",
        "*   All participants are encouraged to learn the basics of python including data types, operators, loops, conditional statements, handling user-defined input, strings, string methods, lists, list comprehension, sets, tuples, dictionaries and basic object-oriented programming concepts before coming to the interview.\n",
        "\n",
        "Beginners unfamiliar with Python are advised to watch the following tutorial before beginning Task 1.\n",
        "\n",
        "**Python Tutorial:** https://youtu.be/yVl_G-F7m8c?si=nEaJMo7Gqk-tQay1\n",
        "\n",
        "\n",
        "\n",
        "**Note:** The expected output is given in the cells below the question.\n"
      ],
      "metadata": {
        "id": "PiZZfxvj57LK"
      }
    },
    {
      "cell_type": "markdown",
      "source": [
        "# Task 1 - Basics of Python\n",
        "\n",
        "\n",
        "\n",
        "> It is the year 3032. After a year of brutal resistance, humanity has managed to slow down the alien invaders. However, the war is far from over. The aliens have begun using more sophisticated tactics, infiltrating human networks, and sabotaging supply lines. You have been recruited by the Resistance as their lead programmer, tasked with writing small but powerful scripts to help humanity survive.\n",
        "\n",
        "Your missions will range from secure communication, data cleansing, and resource tracking to infiltrator detection and digital security. Each problem you solve brings the Resistance one step closer to victory.\n",
        "\n",
        "\n",
        "\n",
        "\n"
      ],
      "metadata": {
        "id": "FgdtUgoiauGY"
      }
    },
    {
      "cell_type": "markdown",
      "source": [
        "**Question 1:**\n",
        "The alien invaders have begun intercepting resistance transmissions. To counter this, the rebels have adopted a simple text-based encryption method:\n",
        "\n",
        "Every alternate word in a sentence is reversed.\n",
        "\n",
        "The first word stays as it is, the second is reversed, the third stays as it is, the fourth is reversed, and so on.\n",
        "\n",
        "eg:\n",
        "Input: \"We strike at dawn tomorrow\"\n",
        "Output: \"We ekirts at nwad tomorrow\"\n",
        "\n",
        "Write a function encrypt_message(message) that takes in a sentence and returns the encrypted version."
      ],
      "metadata": {
        "id": "jk_UOVbvcfJb"
      }
    },
    {
      "cell_type": "code",
      "execution_count": null,
      "metadata": {
        "id": "LmwLUF-kahv0"
      },
      "outputs": [],
      "source": [
        "message = \"The aliens will target the food stores first\""
      ]
    },
    {
      "cell_type": "code",
      "source": [
        "# your code here\n",
        "def encrypt_message(message):\n",
        "    words=message.split()\n",
        "    for i in range(len(words)):\n",
        "        if i%2==1:\n",
        "            words[i]=words[i][::-1]\n",
        "    return \" \".join(words)\n",
        "\n",
        "message=input(\"Enter a sentence:\")\n",
        "result=encrypt_message(message)\n",
        "print(result)"
      ],
      "metadata": {
        "colab": {
          "base_uri": "https://localhost:8080/"
        },
        "id": "H3vbMHoYf5Q1",
        "outputId": "40cc2f22-1ee4-4a5d-87c8-26dab23c63c7"
      },
      "execution_count": 4,
      "outputs": [
        {
          "output_type": "stream",
          "name": "stdout",
          "text": [
            "Enter a sentence:We strike at dawn tomorrow\n",
            "We ekirts at nwad tomorrow\n"
          ]
        }
      ]
    },
    {
      "cell_type": "markdown",
      "source": [
        "**Question 2:**\n",
        "The Resistance must prioritize rations for children and the elderly. Unfortunately, the refugee registration team is overwhelmed, and the age records are a mess — some are written as strings, some have accidental letters, and others are fine.\n",
        "\n",
        "Your job is to write a function clean_and_sort_ages(data) that:\n",
        "1. Removes invalid entries (anything that isn’t purely digits).\n",
        "\n",
        "2. Converts valid entries into integers.\n",
        "\n",
        "3. Returns a clean, sorted list of ages in ascending order."
      ],
      "metadata": {
        "id": "gezvSe3_hgoU"
      }
    },
    {
      "cell_type": "code",
      "source": [
        "data = [\"23\", \"17\", \"thirty\", \"45\", \"19a\", \"31\", \"20\", \"twenty_seven\", \"25c\"]"
      ],
      "metadata": {
        "id": "xqobzAhOunhf"
      },
      "execution_count": null,
      "outputs": []
    },
    {
      "cell_type": "code",
      "source": [
        "# your code here\n",
        "data = [\"23\", \"17\", \"thirty\", \"45\", \"19a\", \"31\", \"20\", \"twenty_seven\", \"25c\"]\n",
        "def clean_and_sort_ages(data):\n",
        "  clean_data=[]\n",
        "  for i in data:\n",
        "    if i.isdigit():\n",
        "      age=int(i)\n",
        "      if 0<=age<=100:\n",
        "        clean_data.append(age)\n",
        "  return (sorted(clean_data))\n",
        "print(clean_and_sort_ages(data))"
      ],
      "metadata": {
        "colab": {
          "base_uri": "https://localhost:8080/"
        },
        "id": "ZHWkgegKvpgZ",
        "outputId": "de47f554-1ded-4970-ce5f-bcc4d224f0ac"
      },
      "execution_count": 6,
      "outputs": [
        {
          "output_type": "stream",
          "name": "stdout",
          "text": [
            "[17, 20, 23, 31, 45]\n"
          ]
        }
      ]
    },
    {
      "cell_type": "markdown",
      "source": [
        "**Question 3:** Supply crates are dropped at night by allied aircraft, but due to enemy fire, crates often scatter and the Resistance ends up with piles of mixed supplies. Each crate is labeled with a code:\n",
        "\n",
        " - \"MED-###\" for medical supplies\n",
        "\n",
        " - \"FOOD-###\" for food\n",
        "\n",
        " - \"WPN-###\" for weapons\n",
        "\n",
        "Write a function count_supplies(supplies) that counts how many of each type the rebels have."
      ],
      "metadata": {
        "id": "coC9Sbqd0bq0"
      }
    },
    {
      "cell_type": "code",
      "source": [
        "supplies = [\"MED-234\", \"FOOD-789\", \"WPN-101\", \"MED-456\", \"FOOD-321\"]"
      ],
      "metadata": {
        "id": "sj5NUmpdYPDF"
      },
      "execution_count": null,
      "outputs": []
    },
    {
      "cell_type": "code",
      "source": [
        "supplies = [\"MED-234\", \"FOOD-789\", \"WPN-101\", \"MED-456\", \"FOOD-321\"]\n",
        "\n",
        "def count_supplies(supplies):\n",
        "    med = food = wpn = 0\n",
        "    for items in supplies:\n",
        "        i = items.split(\"-\")[0]   # take prefix before '-'\n",
        "        if i == \"MED\":\n",
        "            med += 1\n",
        "        elif i == \"FOOD\":\n",
        "            food += 1\n",
        "        else:\n",
        "            wpn += 1\n",
        "\n",
        "    supp = {\n",
        "        \"MED\": med,\n",
        "        \"FOOD\": food,\n",
        "        \"WPN\": wpn\n",
        "    }\n",
        "    return supp   # <- fixed indentation\n",
        "\n",
        "print(count_supplies(supplies))\n"
      ],
      "metadata": {
        "colab": {
          "base_uri": "https://localhost:8080/"
        },
        "id": "aPuIzBQv2sSS",
        "outputId": "1a3dd0e1-2d47-4b9c-ae97-ba941fd643ca"
      },
      "execution_count": 9,
      "outputs": [
        {
          "output_type": "stream",
          "name": "stdout",
          "text": [
            "{'MED': 2, 'FOOD': 2, 'WPN': 1}\n"
          ]
        }
      ]
    },
    {
      "cell_type": "markdown",
      "source": [
        "The rebel scientists have been analyzing captured alien samples. They have discovered rules that can identify whether a DNA sequence is alien or human:\n",
        "\n",
        " - Alien DNA always ends with \"XZ\"\n",
        "\n",
        " - OR contains the substring \"QW\"\n",
        "\n",
        " - OR has a total length greater than 12 characters\n",
        "\n",
        "Write a function detect_aliens(dna_list) that separates sequences into two lists: Aliens and Humans."
      ],
      "metadata": {
        "id": "6z7Wr4BD8xSA"
      }
    },
    {
      "cell_type": "code",
      "source": [
        "dna_list = [\"ATCGXZ\", \"AATGQWGG\", \"TTAGCTA\", \"GATTACAGATTACA\", \"AXGTQWGGGXZ\", \"ATTGTCTA\"]"
      ],
      "metadata": {
        "id": "xUCGsUO9-use"
      },
      "execution_count": null,
      "outputs": []
    },
    {
      "cell_type": "code",
      "source": [
        "# your code here\n",
        "dna_list = [\"ATCGXZ\", \"AATGQWGG\", \"TTAGCTA\", \"GATTACAGATTACA\", \"AXGTQWGGGXZ\", \"ATTGTCTA\"]\n",
        "def detect_aliens(dna_list):\n",
        "    aliens=[]\n",
        "    humans=[]\n",
        "    for i in dna_list:\n",
        "        if i[-2:]==\"XZ\":\n",
        "            aliens.append(i)\n",
        "        elif \"QW\" in i:\n",
        "            aliens.append(i)\n",
        "        elif len(i)>=12:\n",
        "            aliens.append(i)\n",
        "        else:\n",
        "            humans.append(i)\n",
        "    return (\"ALiens:\",aliens,\"Humans:\",humans)\n",
        "print(detect_aliens(dna_list))"
      ],
      "metadata": {
        "colab": {
          "base_uri": "https://localhost:8080/"
        },
        "id": "y7MSDDAL_ZhT",
        "outputId": "da48ad3b-8766-48f7-aacc-7d839e82788b"
      },
      "execution_count": 10,
      "outputs": [
        {
          "output_type": "stream",
          "name": "stdout",
          "text": [
            "('ALiens:', ['ATCGXZ', 'AATGQWGG', 'GATTACAGATTACA', 'AXGTQWGGGXZ'], 'Humans:', ['TTAGCTA', 'ATTGTCTA'])\n"
          ]
        }
      ]
    },
    {
      "cell_type": "markdown",
      "source": [
        "**Question 5:** The Resistance intercepted classified intelligence files about alien commanders. Each commander is represented as a dictionary:\n",
        "\n",
        "{\"name\": \"Xeron\", \"rank\": 4, \"missions\": 20}\n",
        "\n",
        "Your task is to help the rebel analysts make sense of the data:\n",
        "\n",
        "1. Write a function sort_by_missions(commanders) → sorts the list by missions in descending order.\n",
        "\n",
        "2. Write a function sort_by_rank(commanders) → sorts the list by rank in ascending order."
      ],
      "metadata": {
        "id": "hryYd_ubD2U8"
      }
    },
    {
      "cell_type": "code",
      "source": [
        "commanders = [\n",
        "    {\"name\": \"Xeron\", \"rank\": 4, \"missions\": 20},\n",
        "    {\"name\": \"Mira\", \"rank\": 2, \"missions\": 50},\n",
        "    {\"name\": \"Zara\", \"rank\": 4, \"missions\": 21},\n",
        "    {\"name\": \"Rumi\", \"rank\": 1, \"missions\": 75},\n",
        "    {\"name\": \"Larzon\", \"rank\": 5, \"missions\": 35}\n",
        "]"
      ],
      "metadata": {
        "id": "XniLIPBoGrl9"
      },
      "execution_count": null,
      "outputs": []
    },
    {
      "cell_type": "code",
      "source": [
        "# your code here\n",
        "commanders = [\n",
        "    {\"name\": \"Xeron\", \"rank\": 4, \"missions\": 20},\n",
        "    {\"name\": \"Mira\", \"rank\": 2, \"missions\": 50},\n",
        "    {\"name\": \"Zara\", \"rank\": 4, \"missions\": 21},\n",
        "    {\"name\": \"Rumi\", \"rank\": 1, \"missions\": 75},\n",
        "    {\"name\": \"Larzon\", \"rank\": 5, \"missions\": 35}\n",
        "]\n",
        "\n",
        "def sort_by_missions(commander):\n",
        "    return commander[\"missions\"]\n",
        "\n",
        "missions = sorted(commanders, key=sort_by_missions,reverse=True)\n",
        "print(\"By missions:\",missions)\n",
        "\n",
        "\n",
        "def sort_by_rank(commander):\n",
        "    return commander[\"rank\"]\n",
        "rank = sorted(commanders, key=sort_by_rank)\n",
        "print(\"By ranks:\",rank)"
      ],
      "metadata": {
        "colab": {
          "base_uri": "https://localhost:8080/"
        },
        "id": "bjq8PTTOHh56",
        "outputId": "529b9a19-3a25-45ef-bd38-ba43628b0918"
      },
      "execution_count": 11,
      "outputs": [
        {
          "output_type": "stream",
          "name": "stdout",
          "text": [
            "By missions: [{'name': 'Rumi', 'rank': 1, 'missions': 75}, {'name': 'Mira', 'rank': 2, 'missions': 50}, {'name': 'Larzon', 'rank': 5, 'missions': 35}, {'name': 'Zara', 'rank': 4, 'missions': 21}, {'name': 'Xeron', 'rank': 4, 'missions': 20}]\n",
            "By ranks: [{'name': 'Rumi', 'rank': 1, 'missions': 75}, {'name': 'Mira', 'rank': 2, 'missions': 50}, {'name': 'Xeron', 'rank': 4, 'missions': 20}, {'name': 'Zara', 'rank': 4, 'missions': 21}, {'name': 'Larzon', 'rank': 5, 'missions': 35}]\n"
          ]
        }
      ]
    },
    {
      "cell_type": "markdown",
      "source": [
        "**Question 6:** The Resistance maintains hidden bases across the city. Each base is marked on a map by its (x, y) coordinates. Headquarters is located at (0, 0). In case of emergencies, bases closest to HQ will receive evacuation priority.\n",
        "\n",
        "Write a function calculate_distances(coords) that:\n",
        "\n",
        " - Calculates the Euclidean distance of each base from HQ.\n",
        "\n",
        " - Returns a dictionary mapping each coordinate to its distance, rounded to 2 decimals."
      ],
      "metadata": {
        "id": "90Nijs1KIZZ0"
      }
    },
    {
      "cell_type": "code",
      "source": [
        "coords = [(3, 4), (1, 1), (0, 5), (2, -2), (5, 7)]"
      ],
      "metadata": {
        "id": "qfOljsoEZ_BF"
      },
      "execution_count": null,
      "outputs": []
    },
    {
      "cell_type": "code",
      "source": [
        "# your code here\n",
        "import math\n",
        "coords = [(3, 4), (1, 1), (0, 5), (2, -2), (5, 7)]\n",
        "def calculate_distances(coords,hq=(0,0)):\n",
        "    result={}\n",
        "    for x,y in coords:\n",
        "        dx=x-hq[0]\n",
        "        dy=y-hq[1]\n",
        "        dist=math.sqrt(dx**2+dy**2)\n",
        "        result[(x,y)]=round(dist,2)\n",
        "    return result\n",
        "print(calculate_distances(coords,hq=(0,0)))"
      ],
      "metadata": {
        "colab": {
          "base_uri": "https://localhost:8080/"
        },
        "id": "gnI1a0TFLoqh",
        "outputId": "58dd86de-ed28-41fe-ceb0-264589125f06"
      },
      "execution_count": 12,
      "outputs": [
        {
          "output_type": "stream",
          "name": "stdout",
          "text": [
            "{(3, 4): 5.0, (1, 1): 1.41, (0, 5): 5.0, (2, -2): 2.83, (5, 7): 8.6}\n"
          ]
        }
      ]
    },
    {
      "cell_type": "markdown",
      "source": [
        "**Question 7:** The Resistance has secured safehouses with digital locks. To prevent alien infiltration, access codes must follow strict rules:\n",
        "\n",
        " - Must be exactly 8 characters long\n",
        "\n",
        " - The first 2 characters must be uppercase letters\n",
        "\n",
        " - The next 2 characters must be lowercase letters\n",
        "\n",
        " - The last 4 characters must be digits\n",
        "\n",
        "Write a regex that validates a list of access codes.\n",
        "\n",
        "\n",
        "P.S. Don't forget to import the re module"
      ],
      "metadata": {
        "id": "74iydRkwULOi"
      }
    },
    {
      "cell_type": "code",
      "source": [
        "codes = [\"ABcd1234\", \"ZZzz9999\", \"aaBB1234\", \"XYab5678\", \"QWoh9624\", \"koWT2613\"]"
      ],
      "metadata": {
        "id": "WcroHcC4VUaY"
      },
      "execution_count": null,
      "outputs": []
    },
    {
      "cell_type": "code",
      "source": [
        "# your code here\n",
        "import re\n",
        "\n",
        "codes = [\"ABcd1234\", \"ZZzz9999\", \"aaBB1234\", \"XYab5678\", \"QWoh9624\", \"koWT2613\"]\n",
        "pattern = r\"^[A-Z]{2}[a-z]{2}[0-9]{4}$\"\n",
        "valid_codes = [code for code in codes if re.match(pattern, code)]\n",
        "print(\"Valid codes:\", valid_codes)\n"
      ],
      "metadata": {
        "colab": {
          "base_uri": "https://localhost:8080/"
        },
        "id": "_Gj97hjmVpGG",
        "outputId": "32b3d9ba-0319-4987-a347-bd8d2f0033dc"
      },
      "execution_count": 13,
      "outputs": [
        {
          "output_type": "stream",
          "name": "stdout",
          "text": [
            "Valid codes: ['ABcd1234', 'ZZzz9999', 'XYab5678', 'QWoh9624']\n"
          ]
        }
      ]
    },
    {
      "cell_type": "markdown",
      "source": [
        "For a better understanding of Regular Expressions: https://realpython.com/regex-python/"
      ],
      "metadata": {
        "id": "ZlnxyGHm7z0J"
      }
    }
  ]
}